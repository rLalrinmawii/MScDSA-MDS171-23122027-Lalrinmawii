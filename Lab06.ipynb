{
 "cells": [
  {
   "cell_type": "markdown",
   "metadata": {},
   "source": [
    "## Vowel Counter\n",
    "\n",
    "Write a program for collecting a string from the user and counting the number of vowels.\n",
    "\n",
    "Print the total count of vowels          \n",
    "Print each vowel and its count             \n",
    "Calculate the percentage of vowels in the given string              "
   ]
  },
  {
   "cell_type": "code",
   "execution_count": 12,
   "metadata": {},
   "outputs": [
    {
     "name": "stdout",
     "output_type": "stream",
     "text": [
      "Input 1: PeppaPig\n",
      "Total vowels: 3\n",
      "Vowel counts:\n",
      "a: 1\n",
      "e: 1\n",
      "i: 1\n",
      "o: 0\n",
      "u: 0\n",
      "Percentage of vowels: 37.50%\n",
      "Input 2: MIFFYbunny\n",
      "Total vowels: 2\n",
      "Vowel counts:\n",
      "a: 0\n",
      "e: 0\n",
      "i: 1\n",
      "o: 0\n",
      "u: 1\n",
      "Percentage of vowels: 20.00%\n",
      "Input 3: StrawbeeryShortcake\n",
      "Total vowels: 6\n",
      "Vowel counts:\n",
      "a: 2\n",
      "e: 3\n",
      "i: 0\n",
      "o: 1\n",
      "u: 0\n",
      "Percentage of vowels: 31.58%\n"
     ]
    }
   ],
   "source": [
    "# Function to count vowels in a string\n",
    "def countingVowels(input_string):\n",
    "    vowels = \"a\",\"e\",\"i\",\"o\",\"u\"\n",
    "    vowelCount = 0\n",
    "    vowelsDict = {vowel: 0 for vowel in vowels}\n",
    "\n",
    "    # incrementing the count of vowels\n",
    "    for char in input_string.lower():\n",
    "        if char in vowels:\n",
    "            vowelCount += 1\n",
    "            vowelsDict[char] += 1\n",
    "\n",
    "    return vowelCount, vowelsDict\n",
    "\n",
    "\n",
    "for i in range(3): #loop three times\n",
    "    # Get input from the user for each test case (at least three)\n",
    "    user_input = input(f\"Enter string {i + 1}: \")\n",
    "\n",
    "    total_vowels, vowelsDict = countingVowels(user_input)\n",
    "\n",
    "    # Calculate the percentage\n",
    "    totalChar = len(user_input)\n",
    "    vowelsPercent = (total_vowels / totalChar) * 100\n",
    "\n",
    "    # Print necessary results\n",
    "    print(f\"Input {i + 1}: {user_input}\")\n",
    "    print(\"Total vowels:\", total_vowels)\n",
    "    print(\"Vowel counts:\")\n",
    "    for vowel, count in vowelsDict.items():\n",
    "        print(f\"{vowel}: {count}\")\n",
    "    print(f\"Percentage of vowels: {vowelsPercent:.2f}%\")  # Percent will be in two decimal numbers\n"
   ]
  },
  {
   "cell_type": "code",
   "execution_count": null,
   "metadata": {},
   "outputs": [],
   "source": []
  }
 ],
 "metadata": {
  "kernelspec": {
   "display_name": "Python 3",
   "language": "python",
   "name": "python3"
  },
  "language_info": {
   "codemirror_mode": {
    "name": "ipython",
    "version": 3
   },
   "file_extension": ".py",
   "mimetype": "text/x-python",
   "name": "python",
   "nbconvert_exporter": "python",
   "pygments_lexer": "ipython3",
   "version": "3.11.4"
  },
  "orig_nbformat": 4
 },
 "nbformat": 4,
 "nbformat_minor": 2
}
