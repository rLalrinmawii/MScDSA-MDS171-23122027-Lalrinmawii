{
 "cells": [
  {
   "cell_type": "markdown",
   "metadata": {},
   "source": [
    "## A Taste of Success: The Restaurant Management System\n",
    "\n",
    "In the heart of the bustling city of Lavasa was a charming little restaurant named \"Culinary Delights.\" Owned by a passionate chef named Chef Amelia, Culinary Delights was renowned for its mouthwatering dishes, warm ambience, and exceptional customer service.\n",
    "\n",
    "Chef Amelia had always dreamed of running her restaurant since she was a child. Her love for cooking led her to culinary school, where she honed her skills and developed her signature recipes. With hard work and determination, she finally opened Culinary Delights, a cosy place where people could savour her culinary creations.\n",
    "\n",
    "As Culinary Delights gained popularity, it faced a significant challenge – managing orders efficiently. Chef Amelia realised that she needed a robust Restaurant Management System (RMS) to maintain the restaurant's reputation.\n",
    "\n",
    "Chef Amelia would like to hire you as a team lead for the talented software developers Mark, Sarah, and David she already has. Together, you will create an advanced RMS that will revolutionise Culinary Delights.\n",
    "\n",
    "The software Chef Amelia is looking for is straightforward and has to store the orders in a file the restaurant gets from its customers.\n",
    "\n",
    "As a data analyst specialist, gather insights from the orders that Your hotel Culinary Delights received from their customer over time and display it to Chef Amelia as she uses your Software Application."
   ]
  },
  {
   "cell_type": "code",
   "execution_count": 24,
   "metadata": {},
   "outputs": [
    {
     "name": "stdout",
     "output_type": "stream",
     "text": [
      "New file created and data added successfully\n",
      "Dish Name      Total Orders   Total Income   \n",
      "dish1          3              90             \n",
      "dish2          0              0              \n",
      "dish3          0              0              \n",
      "dish4          0              0              \n",
      "dish5          0              0              \n",
      "dish6          0              0              \n"
     ]
    }
   ],
   "source": [
    "def fileOpen():\n",
    "    file = open(\"order_details.txt\", \"w+\")\n",
    "    file.write(\"Dish Name;Number of Order;Price per item;Total Bill Amount\")\n",
    "\n",
    "def fileWrite(dish, orders, priceout, total):\n",
    "    file = open(\"order_details.txt\", \"a+\")\n",
    "    file.write(\"\\n\" + dish + \";\" + str(orders) + \";\" + str(priceout) + \";\" + str(total))\n",
    "    file.close()\n",
    "    return True\n",
    "\n",
    "filetype = input(\"Want a new file to write data: y/n\")\n",
    "dish = input(\"Enter the dish:\")\n",
    "orders = int(input(\"Enter the order quantity:\"))\n",
    "items = [\"dish1\", \"dish2\", \"dish3\", \"dish4\", \"dish5\", \"dish6\"]\n",
    "prices = [30, 40, 50, 60, 45, 80]\n",
    "\n",
    "if dish in items:\n",
    "    priceout = prices[items.index(dish)]\n",
    "    total = orders * priceout\n",
    "\n",
    "    if filetype.lower() == \"y\":\n",
    "        fileOpen()\n",
    "        if fileWrite(dish, orders, priceout, total):\n",
    "            print(\"New file created and data added successfully\")\n",
    "    else:\n",
    "        if fileWrite(dish, orders, priceout, total):\n",
    "            print(\"Data added to file successfully\")\n",
    "else:\n",
    "    print(\"Invalid dish name\")\n",
    "\n",
    "countd = [0, 0, 0, 0, 0, 0]\n",
    "sumd = [0, 0, 0, 0, 0, 0]\n",
    "\n",
    "with open(\"order_details.txt\", \"r+\") as file:\n",
    "    for line in file.readlines():\n",
    "        read = line.strip().split(\";\")\n",
    "        if read[0] in items:\n",
    "            index = items.index(read[0])\n",
    "            countd[index] += int(read[1])\n",
    "            sumd[index] += int(read[3])\n",
    "\n",
    "display = input(\"What you want to be displayed; a) current data stores b) Analytics: a/b\")\n",
    "\n",
    "if display == \"a\":\n",
    "    with open(\"order_details.txt\", \"r+\") as file:\n",
    "        for line in file:\n",
    "            read = line.strip().split(\";\")\n",
    "            print(f\"{read[0]:<15}{read[1]:<15}{read[2]:<15}{read[3]:<15}\")\n",
    "elif display == \"b\":\n",
    "    print(\"Dish Name\".ljust(15) + \"Total Orders\".ljust(15) + \"Total Income\".ljust(15))\n",
    "    for i in range(len(items)):\n",
    "        print(f\"{items[i]:<15}{countd[i]:<15}{sumd[i]:<15}\")\n",
    "else:\n",
    "    print(\"Invalid input for display.\")\n"
   ]
  },
  {
   "cell_type": "code",
   "execution_count": null,
   "metadata": {},
   "outputs": [],
   "source": []
  }
 ],
 "metadata": {
  "kernelspec": {
   "display_name": "Python 3",
   "language": "python",
   "name": "python3"
  },
  "language_info": {
   "codemirror_mode": {
    "name": "ipython",
    "version": 3
   },
   "file_extension": ".py",
   "mimetype": "text/x-python",
   "name": "python",
   "nbconvert_exporter": "python",
   "pygments_lexer": "ipython3",
   "version": "3.11.4"
  },
  "orig_nbformat": 4
 },
 "nbformat": 4,
 "nbformat_minor": 2
}
