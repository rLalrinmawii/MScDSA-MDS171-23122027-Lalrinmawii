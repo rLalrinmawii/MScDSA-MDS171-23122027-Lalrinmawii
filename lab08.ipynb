{
 "cells": [
  {
   "cell_type": "markdown",
   "metadata": {},
   "source": [
    "Matrix Multiplication\n",
    "\n",
    "Jeeva, a mathematical expert, is looking for an expert in programming who can assist him in creating a Python program for Matrix Multiplication.\n",
    "\n",
    "His program has specific requirements.\n",
    "\n",
    "The matrices have to be saved inside a dictionary.                                                                                        \n",
    "The keys allowed in the dictionary are [matrix 1, matrix 2, result matrix]\n",
    "The values for the elements in the rows of the matrix have to be saved in the form of a list of lists [[row1][row2]].                                              \n",
    "You must have functions for collecting the matrix and store in the dictionary.            \n",
    "Another function to Process the matrix and store it in the dictionary.              \n",
    "Another function to Display the result in a file, properly formatted.                        \n",
    ".Menu option to show enter matrix 1, matrix 2, calculate, export to file. If the matrix has been entered, then it should take confirmation from the user before taking the input for matrix 1 or 2 again                                           \n"
   ]
  },
  {
   "cell_type": "code",
   "execution_count": 4,
   "metadata": {},
   "outputs": [
    {
     "name": "stdout",
     "output_type": "stream",
     "text": [
      "\n",
      "Result Matrix:\n",
      "37.0,49.0,61.0\n",
      "27.0,36.0,45.0\n",
      "17.0,23.0,29.0\n"
     ]
    }
   ],
   "source": [
    "\n",
    "\n",
    "def collect_matrix(matrix_name):\n",
    "    while True:\n",
    "        try:\n",
    "            m = int(input(f\"Enter the number of rows for {matrix_name}: \"))  # Prompt user for the number of rows\n",
    "            n = int(input(f\"Enter the number of columns for {matrix_name}: \"))  # Prompt user for the number of columns\n",
    "            break\n",
    "        except ValueError:\n",
    "            print(\"Invalid input. Please enter a valid integer.\")\n",
    "\n",
    "    matrix = []\n",
    "    for _ in range(m):\n",
    "        row = []\n",
    "        for _ in range(n):\n",
    "            while True:\n",
    "                try:\n",
    "                    value = float(input(f\"Enter a value for {matrix_name} ({_ + 1}, {_ + 1}): \"))  # Prompt user for matrix values\n",
    "                    break\n",
    "                except ValueError:\n",
    "                    print(\"Invalid input. Please enter a valid number.\")\n",
    "            row.append(value)\n",
    "        matrix.append(row)\n",
    "\n",
    "    return matrix\n",
    "\n",
    "def multiply_matrices(matrix1, matrix2):\n",
    "    if len(matrix1[0]) != len(matrix2):\n",
    "        return None  # Matrix multiplication is not possible.\n",
    "\n",
    "    result_matrix = []\n",
    "    for i in range(len(matrix1)):\n",
    "        row = []\n",
    "        for j in range(len(matrix2[0])):\n",
    "            sum_element = 0\n",
    "            for k in range(len(matrix2)):\n",
    "                sum_element += matrix1[i][k] * matrix2[k][j]  # Perform matrix multiplication\n",
    "            row.append(sum_element)\n",
    "        result_matrix.append(row)\n",
    "\n",
    "    return result_matrix\n",
    "\n",
    "def display_matrix(matrix):\n",
    "    for row in matrix:\n",
    "        print(','.join(map(str, row)))  # Display the matrix in a readable format\n",
    "\n",
    "def main():\n",
    "    matrix1 = collect_matrix('Matrix 1')\n",
    "    matrix2 = collect_matrix('Matrix 2')\n",
    "\n",
    "    result_matrix = multiply_matrices(matrix1, matrix2)\n",
    "\n",
    "    if result_matrix is not None:\n",
    "        print(\"\\nResult Matrix:\")\n",
    "        display_matrix(result_matrix)  # Display the result matrix\n",
    "    else:\n",
    "        print(\"\\nMatrix multiplication is not possible.\")\n",
    "\n",
    "if __name__ == \"__main__\":\n",
    "    main()\n"
   ]
  },
  {
   "cell_type": "code",
   "execution_count": null,
   "metadata": {},
   "outputs": [],
   "source": []
  }
 ],
 "metadata": {
  "kernelspec": {
   "display_name": "Python 3",
   "language": "python",
   "name": "python3"
  },
  "language_info": {
   "codemirror_mode": {
    "name": "ipython",
    "version": 3
   },
   "file_extension": ".py",
   "mimetype": "text/x-python",
   "name": "python",
   "nbconvert_exporter": "python",
   "pygments_lexer": "ipython3",
   "version": "3.11.4"
  },
  "orig_nbformat": 4
 },
 "nbformat": 4,
 "nbformat_minor": 2
}
